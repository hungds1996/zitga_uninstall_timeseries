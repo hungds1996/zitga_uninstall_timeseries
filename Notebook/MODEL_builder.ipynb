{
 "cells": [
  {
   "cell_type": "code",
   "execution_count": 1,
   "metadata": {},
   "outputs": [],
   "source": [
    "import warnings\n",
    "import itertools\n",
    "import numpy as np\n",
    "import matplotlib.pyplot as plt\n",
    "import seaborn as sns\n",
    "\n",
    "import pandas as pd\n",
    "import statsmodels.api as sm\n",
    "import statsmodels.formula.api as smf\n",
    "import statsmodels.tsa.api as smt\n",
    "import matplotlib\n",
    "import scipy.stats as scs\n",
    "\n",
    "from dateutil.relativedelta import relativedelta\n",
    "from scipy.optimize import minimize\n",
    "from itertools import product\n",
    "\n",
    "from sklearn.linear_model import RidgeCV, LassoCV, ElasticNet\n",
    "from sklearn.ensemble import RandomForestRegressor, GradientBoostingRegressor, VotingRegressor\n",
    "\n",
    "from sklearn.model_selection import TimeSeriesSplit\n",
    "tscv = TimeSeriesSplit(n_splits=5)"
   ]
  },
  {
   "cell_type": "code",
   "execution_count": 2,
   "metadata": {},
   "outputs": [],
   "source": [
    "def preprocessing_data(lag_range, data):\n",
    "    p_data = pd.DataFrame(data)\n",
    "    p_data.columns = ['y']\n",
    "    \n",
    "    for i in range(lag_range[0], lag_range[1]):\n",
    "        p_data['lag_{}'.format(i)] = p_data.y.shift(i)\n",
    "        \n",
    "    from sklearn.model_selection import TimeSeriesSplit\n",
    "    from sklearn.linear_model import LinearRegression\n",
    "    from sklearn.model_selection import cross_val_score\n",
    "\n",
    "    tscv = TimeSeriesSplit(n_splits=5)\n",
    "    \n",
    "    p_data.index = pd.to_datetime(p_data.index)\n",
    "\n",
    "    p_data['weekday'] = p_data.index.weekday\n",
    "    p_data['is_weekend'] = p_data.index.weekday.isin([4, 5])*1\n",
    "\n",
    "    p_data['weekday_to_predict'] = p_data.index.shift(periods=lag_range[0], freq='D').weekday\n",
    "    p_data['is_weekend_to_predict'] = p_data.weekday_to_predict.isin([4,5])*1\n",
    "\n",
    "    X = p_data.dropna().drop(['y'], axis=1)\n",
    "    y = p_data.dropna().y\n",
    "    \n",
    "    return X, y"
   ]
  },
  {
   "cell_type": "markdown",
   "metadata": {},
   "source": [
    "# Global data"
   ]
  },
  {
   "cell_type": "code",
   "execution_count": 3,
   "metadata": {},
   "outputs": [
    {
     "name": "stdout",
     "output_type": "stream",
     "text": [
      "<class 'pandas.core.frame.DataFrame'>\n",
      "DatetimeIndex: 608 entries, 2018-01-01 to 2019-08-31\n",
      "Data columns (total 1 columns):\n",
      "uninstall    608 non-null int64\n",
      "dtypes: int64(1)\n",
      "memory usage: 9.5 KB\n"
     ]
    }
   ],
   "source": [
    "# df = pd.read_excel('gl_uninstall_20190904.xlsx', index_col=0, parse_dates=True)\n",
    "df = pd.read_excel('gl_uninstall_20190831.xlsx', index_col=0, parse_dates=True)\n",
    "df.info()"
   ]
  },
  {
   "cell_type": "code",
   "execution_count": 4,
   "metadata": {},
   "outputs": [],
   "source": [
    "data = df['uninstall']"
   ]
  },
  {
   "cell_type": "markdown",
   "metadata": {},
   "source": [
    "##  --Global 7 days"
   ]
  },
  {
   "cell_type": "code",
   "execution_count": 5,
   "metadata": {},
   "outputs": [],
   "source": [
    "lag_range = [7, 17]\n",
    "g_7days_X, g_7days_y = preprocessing_data(lag_range=lag_range, data=data)"
   ]
  },
  {
   "cell_type": "code",
   "execution_count": 6,
   "metadata": {},
   "outputs": [
    {
     "name": "stderr",
     "output_type": "stream",
     "text": [
      "c:\\users\\asus\\appdata\\local\\programs\\python\\python37\\lib\\site-packages\\sklearn\\linear_model\\coordinate_descent.py:475: ConvergenceWarning: Objective did not converge. You might want to increase the number of iterations. Duality gap: 689066930.0386078, tolerance: 639858.2851755067\n",
      "  positive)\n"
     ]
    }
   ],
   "source": [
    "from sklearn.linear_model import LassoCV\n",
    "\n",
    "reg1 = RidgeCV(alphas=[0.3, 0.5, 0.7, 0.9],cv=tscv, )\n",
    "reg2 = LassoCV(eps=0.01, n_alphas=1, cv=tscv)\n",
    "reg3 = GradientBoostingRegressor(random_state=1)\n",
    "reg4 = ElasticNet(alpha=0.4, l1_ratio=0.8)\n",
    "reg5 = RandomForestRegressor(max_features=0.7, min_samples_leaf=3, n_estimators=2000, bootstrap=True)\n",
    "\n",
    "vr = VotingRegressor(\n",
    "    estimators=[('ridge', reg1), ('lasso', reg2), ('gbr', reg3), ('elastic', reg4), ('randomf', reg5)],\n",
    "    weights=[2, 1, 1, 1, 3]\n",
    ")\n",
    "vr = vr.fit(g_7days_X, g_7days_y)"
   ]
  },
  {
   "cell_type": "code",
   "execution_count": 8,
   "metadata": {},
   "outputs": [],
   "source": [
    "import pickle\n",
    "\n",
    "with open('gl_7.pkl', 'wb') as handle:\n",
    "    pickle.dump(vr, handle, pickle.HIGHEST_PROTOCOL)"
   ]
  },
  {
   "cell_type": "markdown",
   "metadata": {},
   "source": [
    "## --Global 5 days"
   ]
  },
  {
   "cell_type": "code",
   "execution_count": 9,
   "metadata": {},
   "outputs": [],
   "source": [
    "lag_range = [5, 15]\n",
    "g_5days_X, g_5days_y = preprocessing_data(lag_range=lag_range, data=data)"
   ]
  },
  {
   "cell_type": "code",
   "execution_count": 10,
   "metadata": {},
   "outputs": [
    {
     "name": "stderr",
     "output_type": "stream",
     "text": [
      "c:\\users\\asus\\appdata\\local\\programs\\python\\python37\\lib\\site-packages\\sklearn\\linear_model\\coordinate_descent.py:475: ConvergenceWarning: Objective did not converge. You might want to increase the number of iterations. Duality gap: 452312746.8756888, tolerance: 645091.3985826599\n",
      "  positive)\n"
     ]
    }
   ],
   "source": [
    "from sklearn.ensemble import VotingRegressor\n",
    "from sklearn.linear_model import RidgeCV, LassoCV, ElasticNet\n",
    "from sklearn.ensemble import GradientBoostingRegressor, RandomForestClassifier\n",
    "\n",
    "reg1 = RidgeCV(alphas=[0.3, 0.5, 0.7, 0.9],cv=tscv, )\n",
    "reg2 = LassoCV(eps=0.01, n_alphas=1, cv=tscv)\n",
    "reg3 = GradientBoostingRegressor(random_state=1)\n",
    "reg4 = ElasticNet(alpha=0.4, l1_ratio=0.8)\n",
    "reg5 = RandomForestRegressor(max_features=0.7, min_samples_leaf=3, n_estimators=2000, bootstrap=True)\n",
    "\n",
    "vr = VotingRegressor(\n",
    "    estimators=[('ridge', reg1), ('lasso', reg2), ('gbr', reg3), ('elastic', reg4), ('randomf', reg5)],\n",
    "    weights=[0.15, 0.35, 0.10, 0.3, 0.10]\n",
    ")\n",
    "vr = vr.fit(g_5days_X, g_5days_y)"
   ]
  },
  {
   "cell_type": "code",
   "execution_count": 11,
   "metadata": {},
   "outputs": [],
   "source": [
    "with open('gl_5.pkl', 'wb') as handle:\n",
    "    pickle.dump(vr, handle, pickle.HIGHEST_PROTOCOL)"
   ]
  },
  {
   "cell_type": "markdown",
   "metadata": {},
   "source": [
    "# US data"
   ]
  },
  {
   "cell_type": "code",
   "execution_count": 12,
   "metadata": {
    "scrolled": true
   },
   "outputs": [
    {
     "name": "stdout",
     "output_type": "stream",
     "text": [
      "<class 'pandas.core.frame.DataFrame'>\n",
      "DatetimeIndex: 699 entries, 2018-01-01 to 2019-10-30\n",
      "Data columns (total 1 columns):\n",
      "us    699 non-null int64\n",
      "dtypes: int64(1)\n",
      "memory usage: 10.9 KB\n"
     ]
    }
   ],
   "source": [
    "us_df = pd.read_excel('us_uninstall_20190831.xlsx', index_col=0, parse_dates=True)\n",
    "us_df.info()"
   ]
  },
  {
   "cell_type": "code",
   "execution_count": 13,
   "metadata": {},
   "outputs": [],
   "source": [
    "us_data = us_df['us']"
   ]
  },
  {
   "cell_type": "markdown",
   "metadata": {},
   "source": [
    "## --US 7 days"
   ]
  },
  {
   "cell_type": "code",
   "execution_count": 16,
   "metadata": {},
   "outputs": [],
   "source": [
    "lag_range = [7, 17]\n",
    "X_us_7, y_us_7 = preprocessing_data(lag_range=lag_range, data=us_data)"
   ]
  },
  {
   "cell_type": "code",
   "execution_count": 17,
   "metadata": {},
   "outputs": [],
   "source": [
    "from sklearn.ensemble import VotingRegressor\n",
    "from sklearn.linear_model import RidgeCV\n",
    "from sklearn.ensemble import GradientBoostingRegressor\n",
    "\n",
    "r1 = RidgeCV(cv=tscv)\n",
    "r2 = LassoCV(cv=tscv)\n",
    "r3 = GradientBoostingRegressor(random_state=1)\n",
    "\n",
    "vr_us_7 = VotingRegressor(estimators=[('ridge', r1), ('lasso', r2), ('gbr', r3)])\n",
    "vr_us_7 = vr_us_7.fit(X_us_7, y_us_7)"
   ]
  },
  {
   "cell_type": "code",
   "execution_count": 18,
   "metadata": {},
   "outputs": [],
   "source": [
    "with open('us_7.pkl', 'wb') as handle:\n",
    "    pickle.dump(vr_us_7, handle, pickle.HIGHEST_PROTOCOL)"
   ]
  },
  {
   "cell_type": "markdown",
   "metadata": {},
   "source": [
    "## --US 5 days"
   ]
  },
  {
   "cell_type": "code",
   "execution_count": 22,
   "metadata": {},
   "outputs": [],
   "source": [
    "lag_range = [5, 15]\n",
    "X_us_5, y_us_5 = preprocessing_data(lag_range=lag_range, data=us_data)"
   ]
  },
  {
   "cell_type": "code",
   "execution_count": 23,
   "metadata": {},
   "outputs": [],
   "source": [
    "r1 = RidgeCV(cv=tscv)\n",
    "r2 = LassoCV(cv=tscv)\n",
    "r3 = GradientBoostingRegressor(random_state=1)\n",
    "\n",
    "vr_us_5 = VotingRegressor(estimators=[('ridge', r1), ('lasso', r2), ('gbr', r3)])\n",
    "vr_us_5 = vr_us_5.fit(X_us_5, y_us_5)"
   ]
  },
  {
   "cell_type": "code",
   "execution_count": 24,
   "metadata": {},
   "outputs": [],
   "source": [
    "with open('us_5.pkl', 'wb') as handle:\n",
    "    pickle.dump(vr_us_5, handle, pickle.HIGHEST_PROTOCOL)"
   ]
  },
  {
   "cell_type": "code",
   "execution_count": null,
   "metadata": {},
   "outputs": [],
   "source": []
  },
  {
   "cell_type": "code",
   "execution_count": null,
   "metadata": {},
   "outputs": [],
   "source": []
  }
 ],
 "metadata": {
  "kernelspec": {
   "display_name": "Python 3",
   "language": "python",
   "name": "python3"
  },
  "language_info": {
   "codemirror_mode": {
    "name": "ipython",
    "version": 3
   },
   "file_extension": ".py",
   "mimetype": "text/x-python",
   "name": "python",
   "nbconvert_exporter": "python",
   "pygments_lexer": "ipython3",
   "version": "3.7.3"
  }
 },
 "nbformat": 4,
 "nbformat_minor": 2
}
